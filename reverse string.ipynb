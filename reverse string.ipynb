{
  "nbformat": 4,
  "nbformat_minor": 0,
  "metadata": {
    "colab": {
      "provenance": [],
      "authorship_tag": "ABX9TyMgWQBnVmEMG/vKcmiVkQoc",
      "include_colab_link": true
    },
    "kernelspec": {
      "name": "python3",
      "display_name": "Python 3"
    },
    "language_info": {
      "name": "python"
    }
  },
  "cells": [
    {
      "cell_type": "markdown",
      "metadata": {
        "id": "view-in-github",
        "colab_type": "text"
      },
      "source": [
        "<a href=\"https://colab.research.google.com/github/RajaniVasa/functions-2-/blob/main/reverse%20string.ipynb\" target=\"_parent\"><img src=\"https://colab.research.google.com/assets/colab-badge.svg\" alt=\"Open In Colab\"/></a>"
      ]
    },
    {
      "cell_type": "code",
      "execution_count": 1,
      "metadata": {
        "colab": {
          "base_uri": "https://localhost:8080/"
        },
        "id": "8xUDDj1IUAhg",
        "outputId": "0351eea8-a67f-4e8c-f447-2a18239c0de6"
      },
      "outputs": [
        {
          "output_type": "stream",
          "name": "stdout",
          "text": [
            "enter a wordhello\n",
            "olleh\n"
          ]
        }
      ],
      "source": [
        "def rstring(s):\n",
        "  if len(s)==0:\n",
        "    return s\n",
        "  return rstring(s[1:])+s[0]\n",
        "text=input('enter a word')\n",
        "print(rstring(text))"
      ]
    }
  ]
}