{
  "nbformat": 4,
  "nbformat_minor": 0,
  "metadata": {
    "colab": {
      "provenance": [],
      "authorship_tag": "ABX9TyPQ9vhAW0HtdHTlf9XQPlEZ",
      "include_colab_link": true
    },
    "kernelspec": {
      "name": "python3",
      "display_name": "Python 3"
    },
    "language_info": {
      "name": "python"
    }
  },
  "cells": [
    {
      "cell_type": "markdown",
      "metadata": {
        "id": "view-in-github",
        "colab_type": "text"
      },
      "source": [
        "<a href=\"https://colab.research.google.com/github/RajaniVasa/functions-2-/blob/main/Factorial.ipynb\" target=\"_parent\"><img src=\"https://colab.research.google.com/assets/colab-badge.svg\" alt=\"Open In Colab\"/></a>"
      ]
    },
    {
      "cell_type": "code",
      "execution_count": 2,
      "metadata": {
        "id": "MQWFbJlhJoxM",
        "colab": {
          "base_uri": "https://localhost:8080/"
        },
        "outputId": "3d1d388e-e1e1-4e5e-b6ad-80f5e12fa6d5"
      },
      "outputs": [
        {
          "output_type": "stream",
          "name": "stdout",
          "text": [
            "Enter  number5\n",
            "factorial of 5 is 120\n"
          ]
        }
      ],
      "source": [
        "fact=1\n",
        "def factorial(n):\n",
        "  global fact\n",
        "  fact=1\n",
        "  for i in range(1,n+1):\n",
        "    fact *=i\n",
        "  return fact\n",
        "num=int(input('Enter  number'))\n",
        "if num<0:\n",
        "  print('cannot derive fact for negative numbers')\n",
        "else:\n",
        "  factorial(num)\n",
        "  print(f'factorial of {num} is',fact)"
      ]
    }
  ]
}