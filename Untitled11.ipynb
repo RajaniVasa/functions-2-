{
  "nbformat": 4,
  "nbformat_minor": 0,
  "metadata": {
    "colab": {
      "provenance": [],
      "authorship_tag": "ABX9TyPLOf1aT9nPdySZLgGjSlzO",
      "include_colab_link": true
    },
    "kernelspec": {
      "name": "python3",
      "display_name": "Python 3"
    },
    "language_info": {
      "name": "python"
    }
  },
  "cells": [
    {
      "cell_type": "markdown",
      "metadata": {
        "id": "view-in-github",
        "colab_type": "text"
      },
      "source": [
        "<a href=\"https://colab.research.google.com/github/RajaniVasa/functions-2-/blob/main/Untitled11.ipynb\" target=\"_parent\"><img src=\"https://colab.research.google.com/assets/colab-badge.svg\" alt=\"Open In Colab\"/></a>"
      ]
    },
    {
      "cell_type": "code",
      "execution_count": 1,
      "metadata": {
        "colab": {
          "base_uri": "https://localhost:8080/"
        },
        "id": "a1lV5gCEkg3V",
        "outputId": "e6a98280-ffc3-48a6-af07-7c7f066b34b8"
      },
      "outputs": [
        {
          "output_type": "stream",
          "name": "stdout",
          "text": [
            "8\n",
            "55\n"
          ]
        }
      ],
      "source": [
        "def sumnum(*args):\n",
        "  print(args[7])\n",
        "  return sum(args)\n",
        "print(sumnum(1,2,3,4,5,6,7,8,9,10))"
      ]
    }
  ]
}