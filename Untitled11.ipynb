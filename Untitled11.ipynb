{
  "nbformat": 4,
  "nbformat_minor": 0,
  "metadata": {
    "colab": {
      "provenance": [],
      "authorship_tag": "ABX9TyOp4q7uQYavoLd+3l7sy5Sr",
      "include_colab_link": true
    },
    "kernelspec": {
      "name": "python3",
      "display_name": "Python 3"
    },
    "language_info": {
      "name": "python"
    }
  },
  "cells": [
    {
      "cell_type": "markdown",
      "metadata": {
        "id": "view-in-github",
        "colab_type": "text"
      },
      "source": [
        "<a href=\"https://colab.research.google.com/github/RajaniVasa/functions-2-/blob/main/Untitled11.ipynb\" target=\"_parent\"><img src=\"https://colab.research.google.com/assets/colab-badge.svg\" alt=\"Open In Colab\"/></a>"
      ]
    },
    {
      "cell_type": "code",
      "execution_count": 2,
      "metadata": {
        "colab": {
          "base_uri": "https://localhost:8080/"
        },
        "id": "rysG9XunSkwP",
        "outputId": "01e6347d-f81f-4e7f-affd-a632ee54043b"
      },
      "outputs": [
        {
          "output_type": "stream",
          "name": "stdout",
          "text": [
            "enter n:4\n",
            "sum of first 4 natural numbers is 10\n"
          ]
        }
      ],
      "source": [
        "def nsum(n):\n",
        "  if n==0:\n",
        "    return 0\n",
        "  return n+nsum(n-1)\n",
        "num=int(input('enter n:'))\n",
        "print('sum of first',num,'natural numbers is',nsum(num))"
      ]
    }
  ]
}