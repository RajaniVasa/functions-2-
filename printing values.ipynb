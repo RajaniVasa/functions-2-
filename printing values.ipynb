{
  "nbformat": 4,
  "nbformat_minor": 0,
  "metadata": {
    "colab": {
      "provenance": [],
      "authorship_tag": "ABX9TyMDbnsyi4re4SQP672nuDZX",
      "include_colab_link": true
    },
    "kernelspec": {
      "name": "python3",
      "display_name": "Python 3"
    },
    "language_info": {
      "name": "python"
    }
  },
  "cells": [
    {
      "cell_type": "markdown",
      "metadata": {
        "id": "view-in-github",
        "colab_type": "text"
      },
      "source": [
        "<a href=\"https://colab.research.google.com/github/RajaniVasa/functions-2-/blob/main/printing%20values.ipynb\" target=\"_parent\"><img src=\"https://colab.research.google.com/assets/colab-badge.svg\" alt=\"Open In Colab\"/></a>"
      ]
    },
    {
      "cell_type": "code",
      "execution_count": 1,
      "metadata": {
        "colab": {
          "base_uri": "https://localhost:8080/"
        },
        "id": "EEvBqH-8iWQG",
        "outputId": "0b640356-3c55-4b93-841c-147c96c501b0"
      },
      "outputs": [
        {
          "output_type": "stream",
          "name": "stdout",
          "text": [
            "values: dict_values(['rajani', 20, 8.8])\n",
            "--------------\n",
            "('name', 'rajani')\n",
            "('age', 20)\n",
            "('cgpa', 8.8)\n"
          ]
        }
      ],
      "source": [
        "def info(**kwargs):\n",
        "  print('values:',kwargs.values())\n",
        "  print('--------------')\n",
        "  for value in kwargs.items():\n",
        "    print(value)\n",
        "info(name='rajani',age=20,cgpa=8.8)"
      ]
    }
  ]
}